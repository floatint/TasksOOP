{
 "cells": [
  {
   "cell_type": "markdown",
   "metadata": {},
   "source": [
    "# <center>Интерполяционный многочлен Лагранжа</center>"
   ]
  },
  {
   "cell_type": "markdown",
   "metadata": {},
   "source": [
    "## <center>Общий вид</center>\n",
    "$$P_n(x)= \\sum_{k=0}^n l_k(x)f(x_k)$$"
   ]
  },
  {
   "cell_type": "markdown",
   "metadata": {},
   "source": [
    "#### <center>Базисные многочлены определяются по формуле:</center>\n",
    "$$l_k(x)= \\prod_{i=0,\\, i\\neq k}^{n} \\frac{x-x_i}{x_k-x_i}=\\frac{x-x_0}{x_k-x_0} \\cdots \\frac{x-x_{k-1}}{x_k-x_{k-1}} \\frac{x-x_{k+1}}{x_k-x_{k+1}} \\cdots \\frac{x-x_{n}}{x_k-x_{n}}$$"
   ]
  },
  {
   "cell_type": "markdown",
   "metadata": {},
   "source": [
    "## <center>Свойства</center>\n",
    "\n",
    "<center>1. $l_k(x_i) = \\delta_{ki}=\\left\\{\\begin{array}{ll}\n",
    "\t1 & i=k \\\\\n",
    "\t0 & i\\neq k \\\\\n",
    "\t\\end{array}\n",
    "\t\\right.,\\quad \\forall i=0,\\ldots,n.$</center>\n",
    "<br>\n",
    "\n",
    "<center>2. $\\sum_{k=0}^n \\alpha_k l_k(x)=0$</center>\n",
    "<br>\n",
    "<center>3. $\\sum_{k=0}^n \\alpha_k l_k(x_i)=\\sum_{k=0}^n \\alpha_k \\delta_{ki}=0\\Longrightarrow\\alpha_i=0$</center>\n"
   ]
  },
  {
   "cell_type": "markdown",
   "metadata": {},
   "source": [
    "## <center>Нахождение многочлена</center>"
   ]
  },
  {
   "cell_type": "markdown",
   "metadata": {},
   "source": [
    "### <center>Подготовка к работе</center>"
   ]
  },
  {
   "cell_type": "code",
   "execution_count": 1,
   "metadata": {},
   "outputs": [
    {
     "name": "stdout",
     "output_type": "stream",
     "text": [
      "Stored 'HTML' (type)\n",
      "Stored 'display' (function)\n",
      "Stored 'lagrange' (function)\n",
      "Stored 'Polynomial' (type)\n",
      "Stored 'table' (function)\n",
      "Stored 'strpoly' (function)\n"
     ]
    }
   ],
   "source": [
    "from IPython.display import HTML, display\n",
    "from scipy.interpolate import lagrange\n",
    "from numpy.polynomial.polynomial import Polynomial\n",
    "\n",
    "# user-def module\n",
    "from html_elements.table import table\n",
    "from support.presentation import strpoly\n",
    "\n",
    "# pass to next code cells\n",
    "%store HTML\n",
    "%store display\n",
    "%store lagrange\n",
    "%store Polynomial\n",
    "%store table\n",
    "%store strpoly\n"
   ]
  },
  {
   "cell_type": "markdown",
   "metadata": {},
   "source": [
    "### <center>Входные данные</center>"
   ]
  },
  {
   "cell_type": "code",
   "execution_count": 3,
   "metadata": {
    "scrolled": true
   },
   "outputs": [
    {
     "name": "stdout",
     "output_type": "stream",
     "text": [
      "Stored 'x' (list)\n",
      "Stored 'y' (list)\n"
     ]
    },
    {
     "data": {
      "text/html": [
       "<table style=\"border-collapse: collapse;border: 1px solid black;\"><tr style=\"border: 1px solid black;\"><td style=\"border: 1px solid black;\">x</td><td style=\"border: 1px solid black;\">0</td><td style=\"border: 1px solid black;\">1</td><td style=\"border: 1px solid black;\">2</td><td style=\"border: 1px solid black;\">3</td><td style=\"border: 1px solid black;\">4</td><td style=\"border: 1px solid black;\">5</td><td style=\"border: 1px solid black;\">6</td><td style=\"border: 1px solid black;\">7</td><td style=\"border: 1px solid black;\">8</td></tr><tr style=\"border: 1px solid black;\"><td style=\"border: 1px solid black;\">y</td><td style=\"border: 1px solid black;\">0</td><td style=\"border: 1px solid black;\">1</td><td style=\"border: 1px solid black;\">4</td><td style=\"border: 1px solid black;\">9</td><td style=\"border: 1px solid black;\">16</td><td style=\"border: 1px solid black;\">25</td><td style=\"border: 1px solid black;\">36</td><td style=\"border: 1px solid black;\">49</td><td style=\"border: 1px solid black;\">64</td></tr></table>"
      ],
      "text/plain": [
       "<IPython.core.display.HTML object>"
      ]
     },
     "metadata": {},
     "output_type": "display_data"
    }
   ],
   "source": [
    "# Аргумент\n",
    "x = [0, 1, 2, 3, 4, 5, 6, 7, 8]\n",
    "# Значение функции\n",
    "y = [0, 1, 4, 9, 16, 25, 36, 49, 64]\n",
    "\n",
    "# pass to next cells\n",
    "%store x\n",
    "%store y\n",
    "\n",
    "display(HTML(table(x, y)))"
   ]
  },
  {
   "cell_type": "markdown",
   "metadata": {},
   "source": [
    "### <center>Нахождение многочлена</center>"
   ]
  },
  {
   "cell_type": "code",
   "execution_count": 4,
   "metadata": {},
   "outputs": [
    {
     "data": {
      "text/html": [
       "<h3><center>Многочлен имеет вид :</center></h3>"
      ],
      "text/plain": [
       "<IPython.core.display.HTML object>"
      ]
     },
     "metadata": {},
     "output_type": "display_data"
    },
    {
     "data": {
      "text/latex": [
       "$\\displaystyle P_8(x)=7.37257477290143e-18x^8-3.2612801348363973e-16x^7+8.881784197001252e-16x^6-3.552713678800501e-15x^5+1.4566126083082054e-13x^4-2.0605739337042905e-13x^3+0.9999999999999503x^2-3.552713678800501e-14x$"
      ],
      "text/plain": [
       "<IPython.core.display.Math object>"
      ]
     },
     "metadata": {},
     "output_type": "display_data"
    },
    {
     "name": "stdout",
     "output_type": "stream",
     "text": [
      "Stored 'lagrange_polynom' (poly1d)\n"
     ]
    }
   ],
   "source": [
    "import numpy as np\n",
    "from IPython.display import Math, Latex\n",
    "from html_elements.header import h3\n",
    "%store -r\n",
    "# находим многочлен\n",
    "lagrange_polynom = lagrange(x, y)\n",
    "\n",
    "# формируем latex\n",
    "display(HTML(h3('Многочлен имеет вид :')))\n",
    "display(Math(strpoly(lagrange_polynom)))\n",
    "\n",
    "%store lagrange_polynom"
   ]
  },
  {
   "cell_type": "markdown",
   "metadata": {},
   "source": [
    "### <center>Построение многочлена</center>"
   ]
  },
  {
   "cell_type": "code",
   "execution_count": 6,
   "metadata": {},
   "outputs": [
    {
     "data": {
      "image/png": "[encoded data removed]",
      "text/plain": [
       "<Figure size 432x288 with 1 Axes>"
      ]
     },
     "metadata": {
      "needs_background": "light"
     },
     "output_type": "display_data"
    }
   ],
   "source": [
    "import matplotlib.pyplot as plt\n",
    "%store -r\n",
    "\n",
    "plot = plt.plot(x, y, x, [lagrange_polynom(i) for i in x])\n",
    "plt.setp(plot[0], color='r', linewidth=5.0)\n",
    "plt.setp(plot[1], color='b', linewidth=2.0)\n",
    "plt.legend(['Заданая функция', 'Многочлен Лагранжа'])\n",
    "plt.ylabel('Y')\n",
    "plt.xlabel('X')\n",
    "plt.show()"
   ]
  },
  {
   "cell_type": "markdown",
   "metadata": {},
   "source": [
    "## <center>Вывод</center>"
   ]
  },
  {
   "cell_type": "markdown",
   "metadata": {},
   "source": [
    "Интерполяционный многочлен Лагранжа удобен и употребляется в теоретических исследованиях, но с практической точки зрения его полезность вызывает сомнения, так как при построении полинома степени n+1 -> $L_{n+1}(x)$ полностью теряется информация о предыдущем полиноме -> $L_n(x)$."
   ]
  },
  {
   "cell_type": "code",
   "execution_count": null,
   "metadata": {},
   "outputs": [],
   "source": []
  }
 ],
 "metadata": {
  "kernelspec": {
   "display_name": "Python 3",
   "language": "python",
   "name": "python3"
  },
  "language_info": {
   "codemirror_mode": {
    "name": "ipython",
    "version": 3
   },
   "file_extension": ".py",
   "mimetype": "text/x-python",
   "name": "python",
   "nbconvert_exporter": "python",
   "pygments_lexer": "ipython3",
   "version": "3.7.1"
  }
 },
 "nbformat": 4,
 "nbformat_minor": 2
}
